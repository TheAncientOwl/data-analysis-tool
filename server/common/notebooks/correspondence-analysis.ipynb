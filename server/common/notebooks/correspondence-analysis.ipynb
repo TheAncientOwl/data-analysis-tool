{
 "cells": [
  {
   "cell_type": "markdown",
   "metadata": {},
   "source": [
    "Correspondence analysis (CA)"
   ]
  },
  {
   "cell_type": "code",
   "execution_count": null,
   "metadata": {},
   "outputs": [],
   "source": [
    "import pandas as pd\n",
    "\n",
    "pd.set_option('display.float_format', lambda x: '{:.6f}'.format(x))\n",
    "\n",
    "X = pd.DataFrame(\n",
    "   data=[\n",
    "       [326, 38, 241, 110, 3],\n",
    "       [688, 116, 584, 188, 4],\n",
    "       [343, 84, 909, 412, 26],\n",
    "       [98, 48, 403, 681, 85]\n",
    "   ],\n",
    "   columns=pd.Series(['Fair', 'Red', 'Medium', 'Dark', 'Black']),\n",
    "   index=pd.Series(['Blue', 'Light', 'Medium', 'Dark'])\n",
    ")\n",
    "\n",
    "X"
   ]
  },
  {
   "cell_type": "code",
   "execution_count": null,
   "metadata": {},
   "outputs": [],
   "source": [
    "import prince\n",
    "\n",
    "ca = prince.CA(\n",
    "  n_components=2,\n",
    "  n_iter=10,\n",
    "  copy=True,\n",
    "  check_input=True,\n",
    "  engine='auto',\n",
    "  random_state=42\n",
    ")\n",
    "\n",
    "X.columns.rename('Hair color', inplace=True)\n",
    "X.index.rename('Eye color', inplace=True)\n",
    "\n",
    "ca = ca.fit(X)\n"
   ]
  },
  {
   "cell_type": "code",
   "execution_count": null,
   "metadata": {},
   "outputs": [],
   "source": [
    "ca.row_coordinates(X)\n"
   ]
  },
  {
   "cell_type": "code",
   "execution_count": null,
   "metadata": {},
   "outputs": [],
   "source": [
    "ca.column_coordinates(X)"
   ]
  },
  {
   "cell_type": "code",
   "execution_count": null,
   "metadata": {},
   "outputs": [],
   "source": [
    "ax = ca.plot_coordinates(\n",
    "  X=X,\n",
    "  ax=None,\n",
    "  figsize=(6, 6),\n",
    "  x_component=0,\n",
    "  y_component=1,\n",
    "  show_row_labels=True,\n",
    "  show_col_labels=True\n",
    ")\n",
    "\n",
    "# ax.get_figure().savefig('path')\n"
   ]
  },
  {
   "cell_type": "code",
   "execution_count": null,
   "metadata": {},
   "outputs": [],
   "source": [
    "ca.eigenvalues_\n"
   ]
  },
  {
   "cell_type": "code",
   "execution_count": null,
   "metadata": {},
   "outputs": [],
   "source": [
    "ca.total_inertia_\n"
   ]
  },
  {
   "cell_type": "code",
   "execution_count": null,
   "metadata": {},
   "outputs": [],
   "source": [
    "ca.explained_inertia_\n"
   ]
  },
  {
   "cell_type": "markdown",
   "metadata": {},
   "source": [
    "Multiple correspondence analysis (MCA)"
   ]
  },
  {
   "cell_type": "code",
   "execution_count": null,
   "metadata": {},
   "outputs": [],
   "source": [
    "import pandas as pd\n",
    "\n",
    "\n",
    "X = pd.read_csv('https://archive.ics.uci.edu/ml/machine-learning-databases/balloons/adult+stretch.data')\n",
    "X.columns = ['Color', 'Size', 'Action', 'Age', 'Inflated']\n",
    "X.head()\n"
   ]
  },
  {
   "cell_type": "code",
   "execution_count": null,
   "metadata": {},
   "outputs": [],
   "source": [
    "import prince\n",
    "\n",
    "mca = prince.MCA(\n",
    "  n_components=2,\n",
    "  n_iter=3,\n",
    "  copy=True,\n",
    "  check_input=True,\n",
    "  engine='auto',\n",
    "  random_state=42\n",
    ")\n",
    "\n",
    "mca = mca.fit(X)\n"
   ]
  },
  {
   "cell_type": "code",
   "execution_count": null,
   "metadata": {},
   "outputs": [],
   "source": [
    "mca.eigenvalues_"
   ]
  },
  {
   "cell_type": "code",
   "execution_count": null,
   "metadata": {},
   "outputs": [],
   "source": [
    "mca.total_inertia_"
   ]
  },
  {
   "cell_type": "code",
   "execution_count": null,
   "metadata": {},
   "outputs": [],
   "source": [
    "mca.explained_inertia_\n"
   ]
  },
  {
   "cell_type": "code",
   "execution_count": null,
   "metadata": {},
   "outputs": [],
   "source": [
    "ax = mca.plot_coordinates(\n",
    "    X=X,\n",
    "    ax=None,\n",
    "    figsize=(6, 6),\n",
    "    show_row_points=True,\n",
    "    row_points_size=10,\n",
    "    show_row_labels=False,\n",
    "    row_groups=None,\n",
    "    show_column_points=True,\n",
    "    column_points_size=30,\n",
    "    show_column_labels=False,\n",
    "    legend_n_cols=1\n",
    ")\n",
    "# ax.get_figure().savefig('images/mca_coordinates.svg')\n"
   ]
  }
 ],
 "metadata": {
  "kernelspec": {
   "display_name": "Python 3.10.4 ('mango-backend')",
   "language": "python",
   "name": "python3"
  },
  "language_info": {
   "codemirror_mode": {
    "name": "ipython",
    "version": 3
   },
   "file_extension": ".py",
   "mimetype": "text/x-python",
   "name": "python",
   "nbconvert_exporter": "python",
   "pygments_lexer": "ipython3",
   "version": "3.10.4"
  },
  "orig_nbformat": 4,
  "vscode": {
   "interpreter": {
    "hash": "80cb3d0c68560e8ec1dc7a48053a2a8166844d4a6e5c0966df7207ca5872f886"
   }
  }
 },
 "nbformat": 4,
 "nbformat_minor": 2
}
