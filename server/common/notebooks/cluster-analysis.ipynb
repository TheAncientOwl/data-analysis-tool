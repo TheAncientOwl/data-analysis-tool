{
 "cells": [
  {
   "cell_type": "code",
   "execution_count": null,
   "metadata": {},
   "outputs": [],
   "source": [
    "import pandas as pd\n",
    "\n",
    "df = pd.read_csv('C:\\\\Users\\\\TheAncientOwl\\\\Code\\\\data-analysis-tool\\\\server\\\\common\\\\test-data\\\\pca-data.agriculture.csv')\n",
    "\n",
    "df.head()\n"
   ]
  },
  {
   "cell_type": "code",
   "execution_count": null,
   "metadata": {},
   "outputs": [],
   "source": [
    "label_tag = 'Country'\n",
    "feature_tags = ['EA', 'EAM', 'EAF', 'AFF', 'ANE', 'AME', 'CY', \n",
    "            'SA', 'CP', 'LA', 'LCP', 'ARL', 'AGL']\n",
    "\n",
    "labels = df[label_tag].values\n",
    "\n",
    "features = df[feature_tags].values\n"
   ]
  },
  {
   "cell_type": "code",
   "execution_count": null,
   "metadata": {},
   "outputs": [],
   "source": [
    "from sklearn.preprocessing import StandardScaler\n",
    "\n",
    "scaler = StandardScaler()\n",
    "features = scaler.fit_transform(features)\n"
   ]
  },
  {
   "cell_type": "markdown",
   "metadata": {},
   "source": [
    "1. Hierarchycal clustering"
   ]
  },
  {
   "cell_type": "code",
   "execution_count": null,
   "metadata": {},
   "outputs": [],
   "source": [
    "from scipy.cluster.hierarchy import dendrogram, linkage\n",
    "import matplotlib.pyplot as plt\n",
    "\n",
    "linked = linkage(features, 'single')\n",
    "\n",
    "plt.figure(figsize=(20, 20))\n",
    "dendrogram(linked,\n",
    "           orientation='top',\n",
    "           labels=labels,\n",
    "           distance_sort='ascending',\n",
    "           show_leaf_counts=True)\n"
   ]
  },
  {
   "cell_type": "code",
   "execution_count": null,
   "metadata": {},
   "outputs": [],
   "source": [
    "from sklearn.cluster import AgglomerativeClustering\n",
    "\n",
    "cluster = AgglomerativeClustering(n_clusters=4, affinity='euclidean', linkage='ward')\n",
    "cluster.fit_predict(features)\n",
    "\n",
    "result_df = pd.DataFrame({'Cluster': cluster.labels_}, index=labels)\n",
    "\n",
    "result_df.head(10)\n"
   ]
  },
  {
   "cell_type": "markdown",
   "metadata": {},
   "source": [
    "2. K-Means"
   ]
  },
  {
   "cell_type": "code",
   "execution_count": null,
   "metadata": {},
   "outputs": [],
   "source": [
    "import matplotlib.pyplot as plt\n",
    "from kneed import KneeLocator\n",
    "from sklearn.cluster import KMeans\n",
    "from sklearn.metrics import silhouette_score\n"
   ]
  },
  {
   "cell_type": "markdown",
   "metadata": {},
   "source": [
    "Elbow method"
   ]
  },
  {
   "cell_type": "code",
   "execution_count": null,
   "metadata": {},
   "outputs": [],
   "source": [
    "kmeans_kwargs = {\n",
    "    'init': 'random',\n",
    "    'n_init': 10,\n",
    "    'max_iter': 300,\n",
    "    'random_state': 42,\n",
    "}\n",
    "\n",
    "sse = []\n",
    "for k in range(1, 11):\n",
    "  kmeans = KMeans(n_clusters=k, **kmeans_kwargs)\n",
    "  kmeans.fit(features)\n",
    "  sse.append(kmeans.inertia_)\n",
    "\n",
    "plt.style.use('fivethirtyeight')\n",
    "plt.plot(range(1, 11), sse, linewidth=3)\n",
    "plt.xticks(range(1, 11))\n",
    "plt.xlabel('Number of Clusters')\n",
    "plt.ylabel('SSE')\n",
    "\n",
    "k1 = KneeLocator(range(1, 11), sse, curve='convex', direction='decreasing')\n",
    "\n",
    "k1.elbow\n",
    "plt.vlines(x=k1.elbow, ymin=0, ymax=max(sse), colors='red',\n",
    "           linewidth=2.0, linestyles='dashed')\n"
   ]
  },
  {
   "cell_type": "markdown",
   "metadata": {},
   "source": [
    "Silhouette coefficient"
   ]
  },
  {
   "cell_type": "code",
   "execution_count": null,
   "metadata": {},
   "outputs": [],
   "source": [
    "silhouette_coefficients  = []\n",
    "\n",
    "for k in range(2, 11):\n",
    "  kmeans = KMeans(n_clusters=k, **kmeans_kwargs)\n",
    "  kmeans.fit(features)\n",
    "  score = silhouette_score(features, kmeans.labels_)\n",
    "  silhouette_coefficients.append(score)\n",
    "\n",
    "plt.style.use(\"fivethirtyeight\")\n",
    "plt.plot(range(2, 11), silhouette_coefficients, linewidth=3)\n",
    "plt.xticks(range(2, 11))\n",
    "plt.xlabel(\"Number of Clusters\")\n",
    "plt.ylabel(\"Silhouette Coefficient\")\n"
   ]
  },
  {
   "cell_type": "markdown",
   "metadata": {},
   "source": [
    "Clustering"
   ]
  },
  {
   "cell_type": "code",
   "execution_count": null,
   "metadata": {},
   "outputs": [],
   "source": [
    "kmeans = KMeans(\n",
    "    init='random',\n",
    "    n_clusters=4,\n",
    "    n_init=10,\n",
    "    max_iter=300,\n",
    "    random_state=42\n",
    ")\n",
    "\n",
    "kmeans.fit(features)\n"
   ]
  },
  {
   "cell_type": "code",
   "execution_count": null,
   "metadata": {},
   "outputs": [],
   "source": [
    "kmeans.inertia_\n"
   ]
  },
  {
   "cell_type": "code",
   "execution_count": null,
   "metadata": {},
   "outputs": [],
   "source": [
    "kmeans.cluster_centers_\n",
    "[f'Cluster {x}' for x in range(0, len(kmeans.cluster_centers_) + 1)]\n"
   ]
  },
  {
   "cell_type": "code",
   "execution_count": null,
   "metadata": {},
   "outputs": [],
   "source": [
    "kmeans.n_iter_\n"
   ]
  },
  {
   "cell_type": "code",
   "execution_count": null,
   "metadata": {},
   "outputs": [],
   "source": [
    "result_df = pd.DataFrame({'Cluster': kmeans.labels_}, index=labels)\n",
    "\n",
    "result_df.head(10)\n"
   ]
  }
 ],
 "metadata": {
  "kernelspec": {
   "display_name": "Python 3.10.4 ('mango-backend')",
   "language": "python",
   "name": "python3"
  },
  "language_info": {
   "name": "python",
   "version": "3.10.4"
  },
  "orig_nbformat": 4,
  "vscode": {
   "interpreter": {
    "hash": "80cb3d0c68560e8ec1dc7a48053a2a8166844d4a6e5c0966df7207ca5872f886"
   }
  }
 },
 "nbformat": 4,
 "nbformat_minor": 2
}
