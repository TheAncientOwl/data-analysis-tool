{
 "cells": [
  {
   "cell_type": "markdown",
   "metadata": {},
   "source": [
    "1. Import data."
   ]
  },
  {
   "cell_type": "code",
   "execution_count": null,
   "metadata": {},
   "outputs": [],
   "source": [
    "import pandas as pd\n",
    "\n",
    "df = pd.read_csv('C:/Users/TheAncientOwl/Code/data-analysis-tool/server/test-data/pca-data.csv')\n",
    "\n",
    "df.head()\n"
   ]
  },
  {
   "cell_type": "markdown",
   "metadata": {},
   "source": [
    "2. Pick features & target."
   ]
  },
  {
   "cell_type": "code",
   "execution_count": null,
   "metadata": {},
   "outputs": [],
   "source": [
    "target = 'Country'\n",
    "features = list(df.columns)\n",
    "features.remove(target)\n",
    "\n",
    "print(f\">> Target: '{target}'\")\n",
    "print(f'>> Features: {features}')\n"
   ]
  },
  {
   "cell_type": "markdown",
   "metadata": {},
   "source": [
    "3. Standardize the data."
   ]
  },
  {
   "cell_type": "code",
   "execution_count": null,
   "metadata": {},
   "outputs": [],
   "source": [
    "from sklearn.preprocessing import StandardScaler\n",
    "\n",
    "x = df.loc[:, features].values\n",
    "y = df.loc[:, target].values\n",
    "\n",
    "x = StandardScaler().fit_transform(x)\n",
    "features_df = pd.DataFrame(data=x, columns=features)\n",
    "features_df.head()\n"
   ]
  },
  {
   "cell_type": "markdown",
   "metadata": {},
   "source": [
    "4. Correlation matrix."
   ]
  },
  {
   "cell_type": "code",
   "execution_count": null,
   "metadata": {},
   "outputs": [],
   "source": [
    "import numpy as np\n",
    "import seaborn as sns\n",
    "import matplotlib.pyplot as plt\n",
    "\n",
    "corr_matrix = features_df.corr().round(2)\n",
    "\n",
    "plt.figure(figsize=(8, 8))\n",
    "cmap = sns.diverging_palette(250, 20, as_cmap=True)\n",
    "mask = np.triu(np.ones_like(corr_matrix, dtype=bool))\n",
    "sns.heatmap(corr_matrix, annot=True, \n",
    "            vmax=1, vmin=-1, center=0,\n",
    "            cmap=cmap, mask=mask)\n",
    "plt.show()\n"
   ]
  },
  {
   "cell_type": "markdown",
   "metadata": {},
   "source": [
    "5. PCA."
   ]
  },
  {
   "cell_type": "code",
   "execution_count": null,
   "metadata": {},
   "outputs": [],
   "source": [
    "def make_pca_labels(components_count):\n",
    "  return [f'PC{x}' for x in range(1, components_count + 1)]\n",
    "\n",
    "make_pca_labels(4)"
   ]
  },
  {
   "cell_type": "code",
   "execution_count": null,
   "metadata": {},
   "outputs": [],
   "source": [
    "from sklearn.decomposition import PCA\n",
    "\n",
    "pca = PCA()\n",
    "\n",
    "principal_components = pca.fit_transform(x)\n",
    "\n",
    "principal_df = pd.DataFrame(data=principal_components, columns=make_pca_labels(pca.n_components_))\n",
    "final_df = pd.concat([df[target], principal_df], axis=1)\n",
    "\n",
    "final_df.head()"
   ]
  },
  {
   "cell_type": "markdown",
   "metadata": {},
   "source": [
    "6. Pick principal components count."
   ]
  },
  {
   "cell_type": "markdown",
   "metadata": {},
   "source": [
    "6.1. *via* Kaiser."
   ]
  },
  {
   "cell_type": "code",
   "execution_count": null,
   "metadata": {},
   "outputs": [],
   "source": [
    "import numpy as np\n",
    "import matplotlib.pyplot as plt\n",
    "\n",
    "pc_values = np.arange(pca.n_components_) + 1\n",
    "plt.plot(pc_values, pca.explained_variance_ratio_, 'ro-', linewidth=2)\n",
    "plt.title('Scree Plot')\n",
    "plt.xlabel('Principal Component')\n",
    "plt.ylabel('Proportion of Variance Explained')\n",
    "plt.xticks(range(1, pca.n_components_ + 1))\n",
    "plt.show()"
   ]
  },
  {
   "cell_type": "markdown",
   "metadata": {},
   "source": [
    "6.2. *via* The threshold of variance explained approach *(at least 70%)*."
   ]
  },
  {
   "cell_type": "code",
   "execution_count": null,
   "metadata": {},
   "outputs": [],
   "source": [
    "import numpy as np\n",
    "\n",
    "explained_variance_ratio = pca.explained_variance_ratio_ * 100\n",
    "out_sum = np.cumsum(explained_variance_ratio)\n",
    "\n",
    "variance_ratio_df = pd.DataFrame(data={'Proportion of Variance Explained': list(explained_variance_ratio), 'Cumulative Proportion of Variance Explained': list(out_sum)}, \n",
    "                           columns=['Proportion of Variance Explained', 'Cumulative Proportion of Variance Explained'],\n",
    "                           index=make_pca_labels(pca.n_components_))\n",
    "variance_ratio_df"
   ]
  },
  {
   "cell_type": "markdown",
   "metadata": {},
   "source": [
    "6.3. *via* Hold onto principal components whose eigenvalues are > 1."
   ]
  },
  {
   "cell_type": "code",
   "execution_count": null,
   "metadata": {},
   "outputs": [],
   "source": [
    "variance_ratio_df = pd.DataFrame(data={'Explained Variance': list(pca.explained_variance_)}, \n",
    "                                 columns=['Explained Variance'],\n",
    "                                 index=make_pca_labels(pca.n_components_))\n",
    "variance_ratio_df"
   ]
  },
  {
   "cell_type": "markdown",
   "metadata": {},
   "source": [
    "7. Interpret final PCA solution."
   ]
  },
  {
   "cell_type": "markdown",
   "metadata": {},
   "source": [
    "7.1. Execute PCA with chosen principal components count"
   ]
  },
  {
   "cell_type": "code",
   "execution_count": null,
   "metadata": {},
   "outputs": [],
   "source": [
    "from sklearn.decomposition import PCA\n",
    "\n",
    "pca = PCA(n_components=4)\n",
    "\n",
    "principal_components = pca.fit_transform(x)\n",
    "\n",
    "principal_df = pd.DataFrame(data=principal_components, columns=make_pca_labels(pca.n_components_))\n",
    "final_df = pd.concat([df[target], principal_df], axis=1)\n",
    "\n",
    "final_df.head()\n"
   ]
  },
  {
   "cell_type": "markdown",
   "metadata": {},
   "source": [
    "7.2. Loadings."
   ]
  },
  {
   "cell_type": "code",
   "execution_count": null,
   "metadata": {},
   "outputs": [],
   "source": [
    "loadings = pd.DataFrame(pca.components_.T.round(3), columns=make_pca_labels(pca.n_components_), index=features)\n",
    "loadings\n"
   ]
  },
  {
   "cell_type": "code",
   "execution_count": null,
   "metadata": {},
   "outputs": [],
   "source": [
    "# pca general form\n",
    "for pca_id in range(1, pca.n_components_ + 1):\n",
    "  print(f'W{pca_id} = ', sep='', end='')\n",
    "  for feature, row in loadings.iterrows():\n",
    "    print(f'({row[pca_id - 1]} * {feature})', end=' + ')\n",
    "  print('\\n')"
   ]
  },
  {
   "cell_type": "markdown",
   "metadata": {},
   "source": [
    "7.3. Loadings Matrix."
   ]
  },
  {
   "cell_type": "code",
   "execution_count": null,
   "metadata": {},
   "outputs": [],
   "source": [
    "import numpy as np\n",
    "import seaborn as sns\n",
    "import matplotlib.pyplot as plt\n",
    "\n",
    "loadings_matrix = pd.DataFrame(pca.components_.T * np.sqrt(pca.explained_variance_), columns=make_pca_labels(pca.n_components_), index=features)\n",
    "\n",
    "plt.figure(figsize=(8, 8))\n",
    "cmap = sns.diverging_palette(230, 20, as_cmap=True)\n",
    "sns.heatmap(loadings_matrix, annot=True, \n",
    "            vmax=1, vmin=-1, center=0,\n",
    "            cmap=cmap)\n",
    "plt.show()\n"
   ]
  },
  {
   "cell_type": "markdown",
   "metadata": {},
   "source": [
    "8. PCs visualize 2D Projection"
   ]
  },
  {
   "cell_type": "code",
   "execution_count": null,
   "metadata": {},
   "outputs": [],
   "source": [
    "from matplotlib import pyplot as plt\n",
    "import random\n",
    "\n",
    "#? @param pc_x: label of x component f'PC{index}'\n",
    "#? @param pc_y: label of y component f'PC{index}'\n",
    "#? @param targets: targets to be scattered\n",
    "#? @param annot: if the scattered plots should have titles\n",
    "#? @param legend: if the plot should have legend \n",
    "def plot_principal_components(pc_x, pc_y, targets, annot=False, legend=False):\n",
    "  fig = plt.figure(figsize=(8, 8))\n",
    "  \n",
    "  ax = fig.add_subplot(1, 1, 1)\n",
    "  ax.set_xlabel(pc_x, fontsize=15)\n",
    "  ax.set_ylabel(pc_y, fontsize=15)\n",
    "  ax.set_title(f'{pc_x} & {pc_y}', fontsize=20)\n",
    "\n",
    "  for obs in targets:\n",
    "    indices_to_keep = df[target] == obs\n",
    "\n",
    "    x_points = final_df.loc[indices_to_keep, pc_x]\n",
    "    y_points = final_df.loc[indices_to_keep, pc_y]\n",
    "\n",
    "    ax.scatter(x_points, y_points, s=50)\n",
    "    if annot:\n",
    "      for x, y in zip(x_points, y_points):\n",
    "        ax.annotate(obs, (x, y))\n",
    "\n",
    "  if legend:\n",
    "    ax.legend(targets)\n",
    "\n",
    "  ax.grid()\n",
    "  plt.show()\n",
    "\n",
    "# targets = set(df[target])\n",
    "random.seed(893927)\n",
    "targets = set(random.sample(sorted(df[target].values), 10))\n",
    "plot_principal_components('PC1', 'PC2', targets, annot=True)"
   ]
  }
 ],
 "metadata": {
  "interpreter": {
   "hash": "80cb3d0c68560e8ec1dc7a48053a2a8166844d4a6e5c0966df7207ca5872f886"
  },
  "kernelspec": {
   "display_name": "Python 3.10.4 ('mango-backend')",
   "language": "python",
   "name": "python3"
  },
  "language_info": {
   "codemirror_mode": {
    "name": "ipython",
    "version": 3
   },
   "file_extension": ".py",
   "mimetype": "text/x-python",
   "name": "python",
   "nbconvert_exporter": "python",
   "pygments_lexer": "ipython3",
   "version": "3.10.4"
  },
  "orig_nbformat": 4
 },
 "nbformat": 4,
 "nbformat_minor": 2
}
