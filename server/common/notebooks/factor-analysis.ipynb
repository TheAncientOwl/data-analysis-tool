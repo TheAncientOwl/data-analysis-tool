{
 "cells": [
  {
   "cell_type": "code",
   "execution_count": null,
   "metadata": {},
   "outputs": [],
   "source": [
    "import pandas as pd\n",
    "import sklearn.datasets\n",
    "from factor_analyzer import FactorAnalyzer\n",
    "import matplotlib.pyplot as plt\n",
    "\n",
    "df = pd.read_csv('C:\\\\Users\\\\TheAncientOwl\\\\Code\\\\data-analysis-tool\\\\server\\\\test-data\\\\factor-analysis-bfi.csv')\n",
    "\n",
    "df.drop(['Unnamed: 0', 'gender', 'education', 'age'], axis=1, inplace=True)\n",
    "df.dropna(inplace=True)\n",
    "print(df.columns)\n",
    "# df.info()\n",
    "df.head()\n",
    "\n",
    "df.to_csv('C:\\\\Users\\\\TheAncientOwl\\\\Code\\\\data-analysis-tool\\\\server\\\\test-data\\\\factor-analysis.csv')\n"
   ]
  },
  {
   "cell_type": "markdown",
   "metadata": {},
   "source": [
    "1. Bartlett's Test"
   ]
  },
  {
   "cell_type": "code",
   "execution_count": null,
   "metadata": {},
   "outputs": [],
   "source": [
    "from factor_analyzer.factor_analyzer import calculate_bartlett_sphericity\n",
    "chi_square_value, p_value = calculate_bartlett_sphericity(df)\n",
    "chi_square_value, p_value"
   ]
  },
  {
   "cell_type": "markdown",
   "metadata": {},
   "source": [
    "2. KMO Test"
   ]
  },
  {
   "cell_type": "code",
   "execution_count": null,
   "metadata": {},
   "outputs": [],
   "source": [
    "from factor_analyzer.factor_analyzer import calculate_kmo\n",
    "kmo_all, kmo_model = calculate_kmo(df)\n",
    "\n",
    "kmo_model"
   ]
  },
  {
   "cell_type": "markdown",
   "metadata": {},
   "source": [
    "3. Default factor analysis - pick factors count"
   ]
  },
  {
   "cell_type": "code",
   "execution_count": null,
   "metadata": {},
   "outputs": [],
   "source": [
    "fa = FactorAnalyzer(n_factors=25, rotation=None)\n",
    "fa.fit_transform(df)\n",
    "\n",
    "# eigenvalues\n",
    "ev, v = fa.get_eigenvalues()\n",
    "print(ev)\n",
    "\n",
    "# screeplot\n",
    "plt.scatter(range(1, df.shape[1] + 1), ev)\n",
    "plt.plot(range(1, df.shape[1] + 1), ev)\n",
    "plt.title('Scree Plot')\n",
    "plt.xlabel('Factors')\n",
    "plt.ylabel('Egienvalue')\n",
    "plt.grid()\n",
    "plt.show()"
   ]
  },
  {
   "cell_type": "markdown",
   "metadata": {},
   "source": [
    "4. Factor analysis"
   ]
  },
  {
   "cell_type": "code",
   "execution_count": null,
   "metadata": {},
   "outputs": [],
   "source": [
    "from factor_analyzer import FactorAnalyzer\n",
    "import pandas as pd\n",
    "\n",
    "n_factors = 6\n",
    "fa = FactorAnalyzer(n_factors=n_factors, rotation='varimax')\n",
    "fa.fit_transform(df)\n",
    "\n",
    "print(pd.DataFrame(fa.loadings_, index=df.columns))\n",
    "\n"
   ]
  },
  {
   "cell_type": "code",
   "execution_count": null,
   "metadata": {},
   "outputs": [],
   "source": [
    "import numpy as np\n",
    "import seaborn as sns\n",
    "import matplotlib.pyplot as plt\n",
    "\n",
    "loadings_matrix = pd.DataFrame(fa.loadings_,\n",
    "                               index=df.columns,\n",
    "                               columns=[f'F{x}' for x in range(1, n_factors + 1)])\n",
    "\n",
    "plt.figure(figsize=(8, 8))\n",
    "cmap = sns.diverging_palette(230, 20, as_cmap=True)\n",
    "sns.heatmap(loadings_matrix, annot=True,\n",
    "            vmax=1, vmin=-1, center=0,\n",
    "            cmap=cmap)\n",
    "plt.show()\n"
   ]
  },
  {
   "cell_type": "markdown",
   "metadata": {},
   "source": [
    "Factor variance"
   ]
  },
  {
   "cell_type": "code",
   "execution_count": null,
   "metadata": {},
   "outputs": [],
   "source": [
    "fa.get_factor_variance()"
   ]
  },
  {
   "cell_type": "code",
   "execution_count": null,
   "metadata": {},
   "outputs": [],
   "source": [
    "import matplotlib.pyplot as plt\n",
    "\n",
    "# pd.DataFrame(fa.get_communalities(), index=df.columns)\n",
    "\n",
    "plt.bar(df.columns, height=fa.get_communalities())\n",
    "plt.grid(axis='y')\n"
   ]
  }
 ],
 "metadata": {
  "interpreter": {
   "hash": "80cb3d0c68560e8ec1dc7a48053a2a8166844d4a6e5c0966df7207ca5872f886"
  },
  "kernelspec": {
   "display_name": "Python 3.10.4 ('mango-backend')",
   "language": "python",
   "name": "python3"
  },
  "language_info": {
   "codemirror_mode": {
    "name": "ipython",
    "version": 3
   },
   "file_extension": ".py",
   "mimetype": "text/x-python",
   "name": "python",
   "nbconvert_exporter": "python",
   "pygments_lexer": "ipython3",
   "version": "3.10.4"
  },
  "orig_nbformat": 4
 },
 "nbformat": 4,
 "nbformat_minor": 2
}
