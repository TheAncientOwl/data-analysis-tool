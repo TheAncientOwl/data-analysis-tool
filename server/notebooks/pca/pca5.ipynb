{
 "cells": [
  {
   "cell_type": "markdown",
   "metadata": {},
   "source": [
    "PCA for Data Visualization"
   ]
  },
  {
   "cell_type": "code",
   "execution_count": 1,
   "metadata": {},
   "outputs": [
    {
     "data": {
      "text/html": [
       "<div>\n",
       "<style scoped>\n",
       "    .dataframe tbody tr th:only-of-type {\n",
       "        vertical-align: middle;\n",
       "    }\n",
       "\n",
       "    .dataframe tbody tr th {\n",
       "        vertical-align: top;\n",
       "    }\n",
       "\n",
       "    .dataframe thead th {\n",
       "        text-align: right;\n",
       "    }\n",
       "</style>\n",
       "<table border=\"1\" class=\"dataframe\">\n",
       "  <thead>\n",
       "    <tr style=\"text-align: right;\">\n",
       "      <th></th>\n",
       "      <th>Country</th>\n",
       "      <th>EA</th>\n",
       "      <th>EAM</th>\n",
       "      <th>EAF</th>\n",
       "      <th>AFF</th>\n",
       "      <th>ANE</th>\n",
       "      <th>AME</th>\n",
       "      <th>CY</th>\n",
       "      <th>SA</th>\n",
       "      <th>CP</th>\n",
       "      <th>LA</th>\n",
       "      <th>LCP</th>\n",
       "      <th>ARL</th>\n",
       "      <th>AGL</th>\n",
       "    </tr>\n",
       "  </thead>\n",
       "  <tbody>\n",
       "    <tr>\n",
       "      <th>0</th>\n",
       "      <td>Aruba</td>\n",
       "      <td>24.125617</td>\n",
       "      <td>25.060201</td>\n",
       "      <td>22.962485</td>\n",
       "      <td>10.503020</td>\n",
       "      <td>13471.23596</td>\n",
       "      <td>20695.5618</td>\n",
       "      <td>3656.505885</td>\n",
       "      <td>180.0</td>\n",
       "      <td>17824090.07</td>\n",
       "      <td>180.0</td>\n",
       "      <td>4600273.024</td>\n",
       "      <td>2000.0</td>\n",
       "      <td>20.00</td>\n",
       "    </tr>\n",
       "    <tr>\n",
       "      <th>1</th>\n",
       "      <td>Afghanistan</td>\n",
       "      <td>43.130001</td>\n",
       "      <td>37.259998</td>\n",
       "      <td>65.769997</td>\n",
       "      <td>22.042897</td>\n",
       "      <td>4300.00000</td>\n",
       "      <td>10450.0000</td>\n",
       "      <td>2164.900000</td>\n",
       "      <td>652860.0</td>\n",
       "      <td>4140568.00</td>\n",
       "      <td>652860.0</td>\n",
       "      <td>1912634.000</td>\n",
       "      <td>7703000.0</td>\n",
       "      <td>379190.00</td>\n",
       "    </tr>\n",
       "    <tr>\n",
       "      <th>2</th>\n",
       "      <td>Albania</td>\n",
       "      <td>37.290001</td>\n",
       "      <td>33.720001</td>\n",
       "      <td>42.279999</td>\n",
       "      <td>18.440931</td>\n",
       "      <td>960.00000</td>\n",
       "      <td>2010.0000</td>\n",
       "      <td>4840.500000</td>\n",
       "      <td>28750.0</td>\n",
       "      <td>678196.00</td>\n",
       "      <td>27400.0</td>\n",
       "      <td>140110.000</td>\n",
       "      <td>611346.0</td>\n",
       "      <td>11740.81</td>\n",
       "    </tr>\n",
       "    <tr>\n",
       "      <th>3</th>\n",
       "      <td>Andorra</td>\n",
       "      <td>24.125617</td>\n",
       "      <td>25.060201</td>\n",
       "      <td>22.962485</td>\n",
       "      <td>10.503020</td>\n",
       "      <td>0.00000</td>\n",
       "      <td>0.0000</td>\n",
       "      <td>3656.505885</td>\n",
       "      <td>470.0</td>\n",
       "      <td>17824090.07</td>\n",
       "      <td>470.0</td>\n",
       "      <td>4600273.024</td>\n",
       "      <td>830.0</td>\n",
       "      <td>188.30</td>\n",
       "    </tr>\n",
       "    <tr>\n",
       "      <th>4</th>\n",
       "      <td>Armenia</td>\n",
       "      <td>25.780001</td>\n",
       "      <td>23.400000</td>\n",
       "      <td>28.650000</td>\n",
       "      <td>13.942312</td>\n",
       "      <td>1070.00000</td>\n",
       "      <td>680.0000</td>\n",
       "      <td>2623.600000</td>\n",
       "      <td>29740.0</td>\n",
       "      <td>334342.00</td>\n",
       "      <td>28470.0</td>\n",
       "      <td>127436.000</td>\n",
       "      <td>445600.0</td>\n",
       "      <td>16773.00</td>\n",
       "    </tr>\n",
       "  </tbody>\n",
       "</table>\n",
       "</div>"
      ],
      "text/plain": [
       "       Country         EA        EAM        EAF        AFF          ANE  \\\n",
       "0        Aruba  24.125617  25.060201  22.962485  10.503020  13471.23596   \n",
       "1  Afghanistan  43.130001  37.259998  65.769997  22.042897   4300.00000   \n",
       "2      Albania  37.290001  33.720001  42.279999  18.440931    960.00000   \n",
       "3      Andorra  24.125617  25.060201  22.962485  10.503020      0.00000   \n",
       "4      Armenia  25.780001  23.400000  28.650000  13.942312   1070.00000   \n",
       "\n",
       "          AME           CY        SA           CP        LA          LCP  \\\n",
       "0  20695.5618  3656.505885     180.0  17824090.07     180.0  4600273.024   \n",
       "1  10450.0000  2164.900000  652860.0   4140568.00  652860.0  1912634.000   \n",
       "2   2010.0000  4840.500000   28750.0    678196.00   27400.0   140110.000   \n",
       "3      0.0000  3656.505885     470.0  17824090.07     470.0  4600273.024   \n",
       "4    680.0000  2623.600000   29740.0    334342.00   28470.0   127436.000   \n",
       "\n",
       "         ARL        AGL  \n",
       "0     2000.0      20.00  \n",
       "1  7703000.0  379190.00  \n",
       "2   611346.0   11740.81  \n",
       "3      830.0     188.30  \n",
       "4   445600.0   16773.00  "
      ]
     },
     "execution_count": 1,
     "metadata": {},
     "output_type": "execute_result"
    }
   ],
   "source": [
    "import pandas as pd\n",
    "\n",
    "df = pd.read_csv(\n",
    "    'C:/Users/TheAncientOwl/Code/data-analysis-tool/server/Date.csv')\n",
    "\n",
    "df.head()"
   ]
  },
  {
   "cell_type": "markdown",
   "metadata": {},
   "source": [
    "1. Standardize the data"
   ]
  },
  {
   "cell_type": "code",
   "execution_count": 3,
   "metadata": {},
   "outputs": [],
   "source": [
    "from sklearn.preprocessing import StandardScaler\n",
    "\n",
    "features = ['EA', 'EAM', 'EAF', 'AFF', 'ANE', 'AME', 'CY', 'SA', 'CP', 'LA', 'LCP', 'ARL', 'AGL']\n",
    "target = ['Country']\n",
    "\n",
    "x = df.loc[:, features].values\n",
    "y = df.loc[:, target].values\n",
    "\n",
    "x = StandardScaler().fit_transform(x)"
   ]
  },
  {
   "cell_type": "markdown",
   "metadata": {},
   "source": [
    "2. PCA Projection to 2D"
   ]
  },
  {
   "cell_type": "code",
   "execution_count": 7,
   "metadata": {},
   "outputs": [
    {
     "data": {
      "text/html": [
       "<div>\n",
       "<style scoped>\n",
       "    .dataframe tbody tr th:only-of-type {\n",
       "        vertical-align: middle;\n",
       "    }\n",
       "\n",
       "    .dataframe tbody tr th {\n",
       "        vertical-align: top;\n",
       "    }\n",
       "\n",
       "    .dataframe thead th {\n",
       "        text-align: right;\n",
       "    }\n",
       "</style>\n",
       "<table border=\"1\" class=\"dataframe\">\n",
       "  <thead>\n",
       "    <tr style=\"text-align: right;\">\n",
       "      <th></th>\n",
       "      <th>PC1</th>\n",
       "      <th>PC2</th>\n",
       "      <th>Country</th>\n",
       "    </tr>\n",
       "  </thead>\n",
       "  <tbody>\n",
       "    <tr>\n",
       "      <th>0</th>\n",
       "      <td>0.687514</td>\n",
       "      <td>1.366378</td>\n",
       "      <td>Aruba</td>\n",
       "    </tr>\n",
       "    <tr>\n",
       "      <th>1</th>\n",
       "      <td>4.518981</td>\n",
       "      <td>-1.151856</td>\n",
       "      <td>Afghanistan</td>\n",
       "    </tr>\n",
       "    <tr>\n",
       "      <th>2</th>\n",
       "      <td>-0.501471</td>\n",
       "      <td>-2.034472</td>\n",
       "      <td>Albania</td>\n",
       "    </tr>\n",
       "    <tr>\n",
       "      <th>3</th>\n",
       "      <td>-0.736814</td>\n",
       "      <td>0.007391</td>\n",
       "      <td>Andorra</td>\n",
       "    </tr>\n",
       "    <tr>\n",
       "      <th>4</th>\n",
       "      <td>-1.076313</td>\n",
       "      <td>-1.619261</td>\n",
       "      <td>Armenia</td>\n",
       "    </tr>\n",
       "  </tbody>\n",
       "</table>\n",
       "</div>"
      ],
      "text/plain": [
       "        PC1       PC2      Country\n",
       "0  0.687514  1.366378        Aruba\n",
       "1  4.518981 -1.151856  Afghanistan\n",
       "2 -0.501471 -2.034472      Albania\n",
       "3 -0.736814  0.007391      Andorra\n",
       "4 -1.076313 -1.619261      Armenia"
      ]
     },
     "execution_count": 7,
     "metadata": {},
     "output_type": "execute_result"
    }
   ],
   "source": [
    "from sklearn.decomposition import PCA\n",
    "\n",
    "components_count = 2\n",
    "components_labels = [f'PC{x}' for x in range(1, components_count + 1)]\n",
    "\n",
    "pca = PCA(n_components=components_count)\n",
    "\n",
    "principal_components = pca.fit_transform(x)\n",
    "\n",
    "principal_df = pd.DataFrame(data=principal_components, columns=components_labels)\n",
    "\n",
    "final_df = pd.concat([principal_df, df[target]], axis=1)\n",
    "\n",
    "final_df.head()"
   ]
  },
  {
   "cell_type": "markdown",
   "metadata": {},
   "source": [
    "3. Visualize 2D Projection"
   ]
  },
  {
   "cell_type": "code",
   "execution_count": 17,
   "metadata": {},
   "outputs": [
    {
     "data": {
      "text/plain": [
       "Text(0.5, 1.0, '2 component PCA')"
      ]
     },
     "execution_count": 17,
     "metadata": {},
     "output_type": "execute_result"
    },
    {
     "data": {
      "image/png": "[encoded data removed]",
      "text/plain": [
       "<Figure size 576x576 with 1 Axes>"
      ]
     },
     "metadata": {
      "needs_background": "light"
     },
     "output_type": "display_data"
    }
   ],
   "source": [
    "from matplotlib import pyplot as plt\n",
    "\n",
    "fig = plt.figure(figsize=(8, 8))\n",
    "\n",
    "ax = fig.add_subplot(1, 1, 1)\n",
    "ax.set_xlabel('PC1', fontsize=15)\n",
    "ax.set_ylabel('PC2', fontsize=15)\n",
    "ax.set_title('2 component PCA', fontsize=20)\n",
    "\n",
    "# for target in targets:\n",
    "#   indicesToKeep = final_df['Country'] == target\n",
    "#   ax.scatter(final_df.loc[indicesToKeep, 'PC1'], \n",
    "#              final_df.loc[indicesToKeep, 'PC2'],\n",
    "#              c='b', s=50)\n",
    "\n",
    "# ax.grid()\n"
   ]
  }
 ],
 "metadata": {
  "interpreter": {
   "hash": "397e752f4393f0a4926026a73ed062e6e21dcd9097f5fcc2e7502c42ee5fe4ed"
  },
  "kernelspec": {
   "display_name": "Python 3.10.4 ('mango-backend')",
   "language": "python",
   "name": "python3"
  },
  "language_info": {
   "codemirror_mode": {
    "name": "ipython",
    "version": 3
   },
   "file_extension": ".py",
   "mimetype": "text/x-python",
   "name": "python",
   "nbconvert_exporter": "python",
   "pygments_lexer": "ipython3",
   "version": "3.10.4"
  },
  "orig_nbformat": 4
 },
 "nbformat": 4,
 "nbformat_minor": 2
}
