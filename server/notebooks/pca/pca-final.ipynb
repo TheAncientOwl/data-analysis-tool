{
 "cells": [
  {
   "cell_type": "markdown",
   "metadata": {},
   "source": [
    "1. Import data."
   ]
  },
  {
   "cell_type": "code",
   "execution_count": 74,
   "metadata": {},
   "outputs": [
    {
     "data": {
      "text/html": [
       "<div>\n",
       "<style scoped>\n",
       "    .dataframe tbody tr th:only-of-type {\n",
       "        vertical-align: middle;\n",
       "    }\n",
       "\n",
       "    .dataframe tbody tr th {\n",
       "        vertical-align: top;\n",
       "    }\n",
       "\n",
       "    .dataframe thead th {\n",
       "        text-align: right;\n",
       "    }\n",
       "</style>\n",
       "<table border=\"1\" class=\"dataframe\">\n",
       "  <thead>\n",
       "    <tr style=\"text-align: right;\">\n",
       "      <th></th>\n",
       "      <th>Country</th>\n",
       "      <th>EA</th>\n",
       "      <th>EAM</th>\n",
       "      <th>EAF</th>\n",
       "      <th>AFF</th>\n",
       "      <th>ANE</th>\n",
       "      <th>AME</th>\n",
       "      <th>CY</th>\n",
       "      <th>SA</th>\n",
       "      <th>CP</th>\n",
       "      <th>LA</th>\n",
       "      <th>LCP</th>\n",
       "      <th>ARL</th>\n",
       "      <th>AGL</th>\n",
       "    </tr>\n",
       "  </thead>\n",
       "  <tbody>\n",
       "    <tr>\n",
       "      <th>0</th>\n",
       "      <td>Aruba</td>\n",
       "      <td>24.125617</td>\n",
       "      <td>25.060201</td>\n",
       "      <td>22.962485</td>\n",
       "      <td>10.503020</td>\n",
       "      <td>13471.23596</td>\n",
       "      <td>20695.5618</td>\n",
       "      <td>3656.505885</td>\n",
       "      <td>180.0</td>\n",
       "      <td>17824090.07</td>\n",
       "      <td>180.0</td>\n",
       "      <td>4600273.024</td>\n",
       "      <td>2000.0</td>\n",
       "      <td>20.00</td>\n",
       "    </tr>\n",
       "    <tr>\n",
       "      <th>1</th>\n",
       "      <td>Afghanistan</td>\n",
       "      <td>43.130001</td>\n",
       "      <td>37.259998</td>\n",
       "      <td>65.769997</td>\n",
       "      <td>22.042897</td>\n",
       "      <td>4300.00000</td>\n",
       "      <td>10450.0000</td>\n",
       "      <td>2164.900000</td>\n",
       "      <td>652860.0</td>\n",
       "      <td>4140568.00</td>\n",
       "      <td>652860.0</td>\n",
       "      <td>1912634.000</td>\n",
       "      <td>7703000.0</td>\n",
       "      <td>379190.00</td>\n",
       "    </tr>\n",
       "    <tr>\n",
       "      <th>2</th>\n",
       "      <td>Albania</td>\n",
       "      <td>37.290001</td>\n",
       "      <td>33.720001</td>\n",
       "      <td>42.279999</td>\n",
       "      <td>18.440931</td>\n",
       "      <td>960.00000</td>\n",
       "      <td>2010.0000</td>\n",
       "      <td>4840.500000</td>\n",
       "      <td>28750.0</td>\n",
       "      <td>678196.00</td>\n",
       "      <td>27400.0</td>\n",
       "      <td>140110.000</td>\n",
       "      <td>611346.0</td>\n",
       "      <td>11740.81</td>\n",
       "    </tr>\n",
       "    <tr>\n",
       "      <th>3</th>\n",
       "      <td>Andorra</td>\n",
       "      <td>24.125617</td>\n",
       "      <td>25.060201</td>\n",
       "      <td>22.962485</td>\n",
       "      <td>10.503020</td>\n",
       "      <td>0.00000</td>\n",
       "      <td>0.0000</td>\n",
       "      <td>3656.505885</td>\n",
       "      <td>470.0</td>\n",
       "      <td>17824090.07</td>\n",
       "      <td>470.0</td>\n",
       "      <td>4600273.024</td>\n",
       "      <td>830.0</td>\n",
       "      <td>188.30</td>\n",
       "    </tr>\n",
       "    <tr>\n",
       "      <th>4</th>\n",
       "      <td>Armenia</td>\n",
       "      <td>25.780001</td>\n",
       "      <td>23.400000</td>\n",
       "      <td>28.650000</td>\n",
       "      <td>13.942312</td>\n",
       "      <td>1070.00000</td>\n",
       "      <td>680.0000</td>\n",
       "      <td>2623.600000</td>\n",
       "      <td>29740.0</td>\n",
       "      <td>334342.00</td>\n",
       "      <td>28470.0</td>\n",
       "      <td>127436.000</td>\n",
       "      <td>445600.0</td>\n",
       "      <td>16773.00</td>\n",
       "    </tr>\n",
       "  </tbody>\n",
       "</table>\n",
       "</div>"
      ],
      "text/plain": [
       "       Country         EA        EAM        EAF        AFF          ANE  \\\n",
       "0        Aruba  24.125617  25.060201  22.962485  10.503020  13471.23596   \n",
       "1  Afghanistan  43.130001  37.259998  65.769997  22.042897   4300.00000   \n",
       "2      Albania  37.290001  33.720001  42.279999  18.440931    960.00000   \n",
       "3      Andorra  24.125617  25.060201  22.962485  10.503020      0.00000   \n",
       "4      Armenia  25.780001  23.400000  28.650000  13.942312   1070.00000   \n",
       "\n",
       "          AME           CY        SA           CP        LA          LCP  \\\n",
       "0  20695.5618  3656.505885     180.0  17824090.07     180.0  4600273.024   \n",
       "1  10450.0000  2164.900000  652860.0   4140568.00  652860.0  1912634.000   \n",
       "2   2010.0000  4840.500000   28750.0    678196.00   27400.0   140110.000   \n",
       "3      0.0000  3656.505885     470.0  17824090.07     470.0  4600273.024   \n",
       "4    680.0000  2623.600000   29740.0    334342.00   28470.0   127436.000   \n",
       "\n",
       "         ARL        AGL  \n",
       "0     2000.0      20.00  \n",
       "1  7703000.0  379190.00  \n",
       "2   611346.0   11740.81  \n",
       "3      830.0     188.30  \n",
       "4   445600.0   16773.00  "
      ]
     },
     "execution_count": 74,
     "metadata": {},
     "output_type": "execute_result"
    }
   ],
   "source": [
    "import pandas as pd\n",
    "\n",
    "df = pd.read_csv('C:/Users/TheAncientOwl/Code/data-analysis-tool/server/Date.csv')\n",
    "\n",
    "df.head()\n"
   ]
  },
  {
   "cell_type": "markdown",
   "metadata": {},
   "source": [
    "2. Pick features & target."
   ]
  },
  {
   "cell_type": "code",
   "execution_count": 75,
   "metadata": {},
   "outputs": [
    {
     "name": "stdout",
     "output_type": "stream",
     "text": [
      ">> Target: 'Country'\n",
      ">> Features: ['EA', 'EAM', 'EAF', 'AFF', 'ANE', 'AME', 'CY', 'SA', 'CP', 'LA', 'LCP', 'ARL', 'AGL']\n"
     ]
    }
   ],
   "source": [
    "target = 'Country'\n",
    "features = list(df.columns)\n",
    "features.remove(target)\n",
    "\n",
    "print(f\">> Target: '{target}'\")\n",
    "print(f'>> Features: {features}')\n"
   ]
  },
  {
   "cell_type": "markdown",
   "metadata": {},
   "source": [
    "3. Standardize the data."
   ]
  },
  {
   "cell_type": "code",
   "execution_count": null,
   "metadata": {},
   "outputs": [],
   "source": [
    "from sklearn.preprocessing import StandardScaler\n",
    "\n",
    "x = df.loc[:, features].values\n",
    "y = df.loc[:, target].values\n",
    "\n",
    "x = StandardScaler().fit_transform(x)\n",
    "features_df = pd.DataFrame(data=x, columns=features)\n",
    "\n"
   ]
  },
  {
   "cell_type": "markdown",
   "metadata": {},
   "source": [
    "4. Correlation matrix."
   ]
  },
  {
   "cell_type": "code",
   "execution_count": null,
   "metadata": {},
   "outputs": [],
   "source": [
    "import numpy as np\n",
    "import seaborn as sns\n",
    "import matplotlib.pyplot as plt\n",
    "\n",
    "corr_matrix = features_df.corr().round(2)\n",
    "\n",
    "plt.figure(figsize=(8, 8))\n",
    "cmap = sns.diverging_palette(250, 20, as_cmap=True)\n",
    "mask = np.triu(np.ones_like(corr_matrix, dtype=bool))\n",
    "sns.heatmap(corr_matrix, annot=True, \n",
    "            vmax=1, vmin=-1, center=0,\n",
    "            cmap=cmap, mask=mask)\n",
    "plt.show()\n"
   ]
  },
  {
   "cell_type": "markdown",
   "metadata": {},
   "source": [
    "5. PCA."
   ]
  },
  {
   "cell_type": "code",
   "execution_count": null,
   "metadata": {},
   "outputs": [],
   "source": [
    "from sklearn.decomposition import PCA\n",
    "\n",
    "pca = PCA()\n",
    "\n",
    "principal_components = pca.fit_transform(x)\n",
    "\n",
    "labels = [f'PC{x}' for x in range(1, pca.n_components_ + 1)]\n",
    "principal_df = pd.DataFrame(data=principal_components, columns=labels)\n",
    "final_df = pd.concat([df[target], principal_df], axis=1)\n",
    "\n",
    "final_df.head()"
   ]
  },
  {
   "cell_type": "markdown",
   "metadata": {},
   "source": [
    "6. Pick principal components count."
   ]
  },
  {
   "cell_type": "markdown",
   "metadata": {},
   "source": [
    "6.1. *via* Kaiser."
   ]
  },
  {
   "cell_type": "code",
   "execution_count": null,
   "metadata": {},
   "outputs": [],
   "source": [
    "import numpy as np\n",
    "import matplotlib.pyplot as plt\n",
    "\n",
    "pc_values = np.arange(pca.n_components_) + 1\n",
    "plt.plot(pc_values, pca.explained_variance_ratio_, 'ro-', linewidth=2)\n",
    "plt.title('Scree Plot')\n",
    "plt.xlabel('Principal Component')\n",
    "plt.ylabel('Proportion of Variance Explained')\n",
    "plt.xticks(range(1, pca.n_components_ + 1))\n",
    "plt.show()"
   ]
  },
  {
   "cell_type": "markdown",
   "metadata": {},
   "source": [
    "6.2. *via* The threshold of variance explained approach *(at least 70%)*."
   ]
  },
  {
   "cell_type": "code",
   "execution_count": null,
   "metadata": {},
   "outputs": [],
   "source": [
    "import numpy as np\n",
    "\n",
    "explained_variance_ratio = pca.explained_variance_ratio_ * 100\n",
    "out_sum = np.cumsum(explained_variance_ratio)\n",
    "\n",
    "pcs = [f'PC{x}' for x in range(1, pca.n_components_ + 1)]\n",
    "variance_ratio_df = pd.DataFrame(data={'Proportion of Variance Explained': list(explained_variance_ratio), 'Cumulative Proportion of Variance Explained': list(out_sum)}, \n",
    "                           columns=['Proportion of Variance Explained', 'Cumulative Proportion of Variance Explained'],\n",
    "                           index=pcs)\n",
    "variance_ratio_df"
   ]
  },
  {
   "cell_type": "markdown",
   "metadata": {},
   "source": [
    "6.3. *via* Hold onto principal components whose eigenvalues are > 1."
   ]
  },
  {
   "cell_type": "code",
   "execution_count": null,
   "metadata": {},
   "outputs": [],
   "source": [
    "variance_ratio_df = pd.DataFrame(data={'Explained Variance': list(pca.explained_variance_)}, \n",
    "                                 columns=['Explained Variance'],\n",
    "                                 index=pcs)\n",
    "variance_ratio_df"
   ]
  },
  {
   "cell_type": "markdown",
   "metadata": {},
   "source": [
    "7. Interpret final PCA solution."
   ]
  },
  {
   "cell_type": "markdown",
   "metadata": {},
   "source": [
    "7.1. Execute PCA with chosen principal components count"
   ]
  },
  {
   "cell_type": "code",
   "execution_count": null,
   "metadata": {},
   "outputs": [],
   "source": [
    "from sklearn.decomposition import PCA\n",
    "\n",
    "pca = PCA(n_components=4)\n",
    "\n",
    "principal_components = pca.fit_transform(x)\n",
    "\n",
    "labels = [f'PC{x}' for x in range(1, pca.n_components_ + 1)]\n",
    "principal_df = pd.DataFrame(data=principal_components, columns=labels)\n",
    "final_df = pd.concat([df[target], principal_df], axis=1)\n",
    "\n",
    "final_df.head()\n"
   ]
  },
  {
   "cell_type": "markdown",
   "metadata": {},
   "source": [
    "7.2. Loadings."
   ]
  },
  {
   "cell_type": "code",
   "execution_count": null,
   "metadata": {},
   "outputs": [],
   "source": [
    "loadings = pd.DataFrame(pca.components_.T.round(3), columns=labels, index=features)\n",
    "loadings\n"
   ]
  },
  {
   "cell_type": "code",
   "execution_count": null,
   "metadata": {},
   "outputs": [],
   "source": [
    "# pca general form\n",
    "for pca_id in range(1, pca.n_components_ + 1):\n",
    "  print(f'W{pca_id} = ', sep='', end='')\n",
    "  for feature, row in loadings.iterrows():\n",
    "    print(f'({row[pca_id - 1]} * {feature})', end=' + ')\n",
    "  print('\\n')"
   ]
  },
  {
   "cell_type": "markdown",
   "metadata": {},
   "source": [
    "7.3. Loadings Matrix."
   ]
  },
  {
   "cell_type": "code",
   "execution_count": null,
   "metadata": {},
   "outputs": [],
   "source": [
    "import numpy as np\n",
    "import seaborn as sns\n",
    "import matplotlib.pyplot as plt\n",
    "\n",
    "loadings_matrix = pd.DataFrame(pca.components_.T * np.sqrt(pca.explained_variance_), columns=labels, index=features)\n",
    "\n",
    "plt.figure(figsize=(8, 8))\n",
    "cmap = sns.diverging_palette(230, 20, as_cmap=True)\n",
    "sns.heatmap(loadings_matrix, annot=True, \n",
    "            vmax=1, vmin=-1, center=0,\n",
    "            cmap=cmap)\n",
    "plt.show()\n"
   ]
  },
  {
   "cell_type": "markdown",
   "metadata": {},
   "source": [
    "8. PCs visualize 2D Projection"
   ]
  },
  {
   "cell_type": "code",
   "execution_count": null,
   "metadata": {},
   "outputs": [],
   "source": [
    "from matplotlib import pyplot as plt\n",
    "import random\n",
    "\n",
    "#? @param pc_x: label of x component f'PC{index}'\n",
    "#? @param pc_y: label of y component f'PC{index}'\n",
    "#? @param targets: targets to be scattered\n",
    "#? @param annot: if the scattered plots should have titles\n",
    "#? @param legend: if the plot should have legend \n",
    "def plot_principal_components(pc_x, pc_y, targets, annot=False, legend=False):\n",
    "  fig = plt.figure(figsize=(8, 8))\n",
    "  \n",
    "  ax = fig.add_subplot(1, 1, 1)\n",
    "  ax.set_xlabel(pc_x, fontsize=15)\n",
    "  ax.set_ylabel(pc_y, fontsize=15)\n",
    "  ax.set_title(f'{pc_x} & {pc_y}', fontsize=20)\n",
    "\n",
    "  for obs in targets:\n",
    "    indices_to_keep = df[target] == obs\n",
    "\n",
    "    x_points = final_df.loc[indices_to_keep, pc_x]\n",
    "    y_points = final_df.loc[indices_to_keep, pc_y]\n",
    "\n",
    "    ax.scatter(x_points, y_points, s=50)\n",
    "    if annot:\n",
    "      for x, y in zip(x_points, y_points):\n",
    "        ax.annotate(obs, (x, y))\n",
    "\n",
    "  if legend:\n",
    "    ax.legend(targets)\n",
    "\n",
    "  ax.grid()\n",
    "  plt.show()\n",
    "\n",
    "# targets = set(df[target])\n",
    "random.seed(893927)\n",
    "targets = set(random.sample(sorted(df[target].values), 10))\n",
    "plot_principal_components('PC1', 'PC2', targets, annot=True)"
   ]
  }
 ],
 "metadata": {
  "interpreter": {
   "hash": "397e752f4393f0a4926026a73ed062e6e21dcd9097f5fcc2e7502c42ee5fe4ed"
  },
  "kernelspec": {
   "display_name": "Python 3.10.4 ('mango-backend')",
   "language": "python",
   "name": "python3"
  },
  "language_info": {
   "codemirror_mode": {
    "name": "ipython",
    "version": 3
   },
   "file_extension": ".py",
   "mimetype": "text/x-python",
   "name": "python",
   "nbconvert_exporter": "python",
   "pygments_lexer": "ipython3",
   "version": "3.10.4"
  },
  "orig_nbformat": 4
 },
 "nbformat": 4,
 "nbformat_minor": 2
}
