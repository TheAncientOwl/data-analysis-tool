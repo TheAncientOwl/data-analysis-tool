{
  "cells": [
    {
      "cell_type": "code",
      "execution_count": null,
      "metadata": {},
      "outputs": [],
      "source": [
        "import pandas as pd\n",
        "import numpy as np\n"
      ]
    },
    {
      "cell_type": "code",
      "execution_count": null,
      "metadata": {},
      "outputs": [],
      "source": [
        "data_df = pd.read_csv('C:\\\\Users\\\\TheAncientOwl\\\\Code\\\\data-analysis-tool\\\\server\\\\test-data\\\\linear-regression.csv')\n",
        "data_df.head()"
      ]
    },
    {
      "cell_type": "markdown",
      "metadata": {},
      "source": [
        "Define x and y"
      ]
    },
    {
      "cell_type": "code",
      "execution_count": null,
      "metadata": {},
      "outputs": [],
      "source": [
        "x = data_df.drop(['PE'], axis=1).values\n",
        "y = data_df['PE'].values\n",
        "\n"
      ]
    },
    {
      "cell_type": "markdown",
      "metadata": {},
      "source": [
        "Split in Train and Test"
      ]
    },
    {
      "cell_type": "code",
      "execution_count": null,
      "metadata": {},
      "outputs": [],
      "source": [
        "from sklearn.model_selection import train_test_split\n",
        "\n",
        "x_train, x_test, y_train, y_test = train_test_split(\n",
        "    x, y, test_size=0.33, random_state=42)\n"
      ]
    },
    {
      "cell_type": "markdown",
      "metadata": {},
      "source": [
        "Train the model on the training set"
      ]
    },
    {
      "cell_type": "code",
      "execution_count": null,
      "metadata": {},
      "outputs": [],
      "source": [
        "from sklearn.linear_model import LinearRegression\n",
        "\n",
        "model = LinearRegression()\n",
        "model.fit(x_train, y_train)\n"
      ]
    },
    {
      "cell_type": "markdown",
      "metadata": {},
      "source": [
        "Predict the test set results"
      ]
    },
    {
      "cell_type": "code",
      "execution_count": null,
      "metadata": {},
      "outputs": [],
      "source": [
        "y_pred = model.predict(x_test)\n"
      ]
    },
    {
      "cell_type": "markdown",
      "metadata": {},
      "source": [
        "Difference"
      ]
    },
    {
      "cell_type": "code",
      "execution_count": null,
      "metadata": {},
      "outputs": [],
      "source": [
        "diff = pd.DataFrame({'Actual Value': y_test, 'Predicted value': y_pred, 'Difference': y_test - y_pred})\n",
        "diff"
      ]
    },
    {
      "cell_type": "markdown",
      "metadata": {},
      "source": [
        "equation"
      ]
    },
    {
      "cell_type": "code",
      "execution_count": null,
      "metadata": {},
      "outputs": [],
      "source": [
        "model.coef_\n",
        "\n",
        "model.intercept_\n",
        "\n",
        "x_labels = data_df.drop(['PE'], axis=1).columns.values\n",
        "x_labels\n",
        "\n",
        "y_label = 'PE'\n",
        "y_label\n",
        "\n",
        "equation = f'Predicted {y_label} = '\n",
        "for (label, coeff) in zip(x_labels, model.coef_):\n",
        "  equation += f'({label} * {coeff}) + '\n",
        "  \n",
        "print(equation[:-3])\n",
        "print(x_labels)\n",
        "print(y_label)"
      ]
    },
    {
      "cell_type": "code",
      "execution_count": null,
      "metadata": {},
      "outputs": [],
      "source": [
        "# MSE\n",
        "from sklearn import metrics\n",
        "\n",
        "print(f'Mean Squared Error (MSE): {metrics.mean_squared_error(y_test, y_pred)}')\n"
      ]
    },
    {
      "cell_type": "code",
      "execution_count": null,
      "metadata": {},
      "outputs": [],
      "source": [
        "# Ordinary Least-Squares\n",
        "import statsmodels.api as sm\n",
        "\n",
        "x_stat = sm.add_constant(x_train)\n",
        "summary = sm.OLS(y_train, x_stat).fit()\n",
        "summary.summary()\n"
      ]
    },
    {
      "cell_type": "markdown",
      "metadata": {},
      "source": [
        "R-Square & Adj-R-Square"
      ]
    },
    {
      "cell_type": "code",
      "execution_count": null,
      "metadata": {},
      "outputs": [],
      "source": [
        "print(f'Adjusted R-Square: ', summary.rsquared_adj)\n",
        "print(f'R-Square', summary.rsquared)\n"
      ]
    }
  ],
  "metadata": {
    "interpreter": {
      "hash": "80cb3d0c68560e8ec1dc7a48053a2a8166844d4a6e5c0966df7207ca5872f886"
    },
    "kernelspec": {
      "display_name": "Python 3.10.4 ('mango-backend')",
      "language": "python",
      "name": "python3"
    },
    "language_info": {
      "codemirror_mode": {
        "name": "ipython",
        "version": 3
      },
      "file_extension": ".py",
      "mimetype": "text/x-python",
      "name": "python",
      "nbconvert_exporter": "python",
      "pygments_lexer": "ipython3",
      "version": "3.10.4"
    },
    "orig_nbformat": 4
  },
  "nbformat": 4,
  "nbformat_minor": 2
}
